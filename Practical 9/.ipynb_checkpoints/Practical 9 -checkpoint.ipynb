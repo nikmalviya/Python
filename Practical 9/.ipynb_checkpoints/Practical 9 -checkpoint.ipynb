{
 "cells": [
  {
   "cell_type": "markdown",
   "metadata": {},
   "source": [
    "# Basics of OOP\n"
   ]
  },
  {
   "cell_type": "markdown",
   "metadata": {},
   "source": [
    " ### Q.1 Customer class\n",
    " \n",
    "    Create a class called CUSTOMER – represent customer of ABC bank with the following attributes\n",
    "    Name – name of customer\n",
    "    Acc. Type – type of acccout (saving or current)\n",
    "    Balance – account balance.\n",
    "    Implement constructor function along with two more function called withdrawal & deposit.\n",
    "    Also implement function called setbalance() & getbalance() function"
   ]
  },
  {
   "cell_type": "code",
   "execution_count": 4,
   "metadata": {
    "scrolled": true
   },
   "outputs": [
    {
     "name": "stdout",
     "output_type": "stream",
     "text": [
      "Enter Name : Nikhil\n",
      "Enter Account Type : savings\n",
      "Enter Balance : 10000\n",
      "1 : Withdraw \n",
      "2 : Deposit \n",
      "3 : Quit \n",
      "Enter Your Choice :1\n",
      "Enter Amount : 1000\n",
      "New Balance :  9000.0\n",
      "1 : Withdraw \n",
      "2 : Deposit \n",
      "3 : Quit \n",
      "Enter Your Choice :3\n"
     ]
    }
   ],
   "source": [
    "class Customer:\n",
    "    def __init__(self, name, acc_type, balance):\n",
    "        self.name = name\n",
    "        self.acc_type = acc_type\n",
    "        self.balance = balance\n",
    "\n",
    "    def withdraw(self, amount):\n",
    "        if self.balance - amount > 0:\n",
    "            self.balance -= amount\n",
    "\n",
    "    def deposit(self, amount):\n",
    "        self.balance += amount\n",
    "\n",
    "    def set_balance(self, amount):\n",
    "        self.balance = amount\n",
    "\n",
    "    def get_balance(self):\n",
    "        return self.balance\n",
    "\n",
    "if __name__ == '__main__':\n",
    "    name = input('Enter Name : ')\n",
    "    acc_type = input('Enter Account Type : ')\n",
    "    balance = float(input('Enter Balance : '))\n",
    "    customer = Customer(name, acc_type, balance)\n",
    "    while True:\n",
    "        print('1 : Withdraw ')\n",
    "        print('2 : Deposit ')\n",
    "        print('3 : Quit ')\n",
    "        choice = input('Enter Your Choice :')\n",
    "        if choice == '1':\n",
    "            amount = float(input('Enter Amount : '))\n",
    "            customer.withdraw(amount)\n",
    "            print('New Balance : ', customer.get_balance())\n",
    "        elif choice == '2':\n",
    "            amount = float(input('Enter Amount : '))\n",
    "            customer.deposit(amount)\n",
    "            print('New Balance : ', customer.get_balance())\n",
    "        elif choice == '3':\n",
    "            break\n",
    "        else:\n",
    "            print('Invalid Choice')\n"
   ]
  },
  {
   "cell_type": "markdown",
   "metadata": {},
   "source": [
    "### Q.2 Complex Number\n",
    "    Create a class called complex_no with two data member called real and imaginary. \n",
    "    Implement add for addition of two complex numbers, mul for multiplication of two complex number, \n",
    "    sub for subtraction of two complex numbers."
   ]
  },
  {
   "cell_type": "code",
   "execution_count": 5,
   "metadata": {},
   "outputs": [
    {
     "name": "stdout",
     "output_type": "stream",
     "text": [
      "Enter Complex No1: 1 3 \n",
      "Enter Complex No2: 2 1\n",
      "Addition : 3+4j\n",
      "Subtraction : 1+3j\n",
      "Multiplication : -1+7j\n"
     ]
    }
   ],
   "source": [
    "class Complex:\n",
    "    def __init__(self, real, imaginary):\n",
    "        self.real = real\n",
    "        self.imaginary = imaginary\n",
    "\n",
    "    def add(self, other):\n",
    "        self.real += other.real\n",
    "        self.imaginary += other.imaginary\n",
    "\n",
    "    def sub(self, other):\n",
    "        self.real -= other.real\n",
    "        self.imaginary -= other.imaginary\n",
    "\n",
    "    def mul(self, other):\n",
    "        real = (self.real * other.real) - (self.imaginary * other.imaginary)\n",
    "        self.imaginary = (self.real * other.imaginary) + (self.imaginary * other.real)\n",
    "        self.real = real\n",
    "\n",
    "\n",
    "if __name__ == '__main__':\n",
    "    c1 = Complex(*map(int, input('Enter Complex No1: ').split()))\n",
    "    c2 = Complex(*map(int, input('Enter Complex No2: ').split()))\n",
    "    c1.add(c2)\n",
    "    print(f'Addition : {c1.real}+{c1.imaginary}j')\n",
    "    c1.sub(c2)\n",
    "    print(f'Subtraction : {c1.real}+{c1.imaginary}j')\n",
    "    c1.mul(c2)\n",
    "    print(f'Multiplication : {c1.real}+{c1.imaginary}j')\n"
   ]
  },
  {
   "cell_type": "markdown",
   "metadata": {},
   "source": [
    "### Q.3 Distance class\n",
    "    Create a class called distance with two data members – feet and inch. Implement a method add\n",
    "    for addition of two distances."
   ]
  },
  {
   "cell_type": "code",
   "execution_count": 6,
   "metadata": {},
   "outputs": [
    {
     "name": "stdout",
     "output_type": "stream",
     "text": [
      "Enter Distance 1:3 7\n",
      "Enter Distance 2 :6 9\n",
      "Feet :  10.0\n",
      "Inch :  4.0\n"
     ]
    }
   ],
   "source": [
    "class Distance:\n",
    "    def __init__(self, feet, inch):\n",
    "        self.feet = feet\n",
    "        self.inch = inch\n",
    "\n",
    "    def add(self,distance):\n",
    "        self.feet += distance.feet\n",
    "        self.inch += distance.inch\n",
    "        if self.inch >= 12:\n",
    "            self.inch -= 12\n",
    "            self.feet += 1\n",
    "\n",
    "    def display(self):\n",
    "        print('Feet : ', self.feet)\n",
    "        print('Inch : ', self.inch)\n",
    "\n",
    "        \n",
    "if __name__ == '__main__':\n",
    "    d1 = Distance(*map(float,input('Enter Distance 1:').split()))\n",
    "    d2 = Distance(*map(float, input('Enter Distance 2 :').split()))\n",
    "    d1.add(d2)\n",
    "    d1.display()\n"
   ]
  },
  {
   "cell_type": "markdown",
   "metadata": {},
   "source": [
    "### Q.4 StopWatch class\n",
    "(Stopwatch) Design a class named StopWatch. The class contains:\n",
    "\n",
    "* The private data fields startTimeand endTimewith get methods.\n",
    "* A constructor that initializes startTimewith the current time.\n",
    "* A method named start() that resets the startTimeto the current time.\n",
    "* A method named stop() that sets the endTimeto the current time.\n",
    "* A method named getElapsedTime() that returns the elapsed time for thestop watch in\n",
    "    milliseconds.\n",
    "    \n",
    "Write a testprogram that measures the execution time of adding numbers from 1 to\n",
    "1,000,000.\n",
    "   "
   ]
  },
  {
   "cell_type": "code",
   "execution_count": 7,
   "metadata": {},
   "outputs": [
    {
     "name": "stdout",
     "output_type": "stream",
     "text": [
      "Elapsed Time : 0.19ms\n"
     ]
    }
   ],
   "source": [
    "from time import time\n",
    "\n",
    "class StopWatch:\n",
    "    def __init__(self):\n",
    "        self.__start_time = time()\n",
    "        self.__end_time = 0\n",
    "\n",
    "    def start(self):\n",
    "        self.__start_time = time()\n",
    "\n",
    "    def stop(self):\n",
    "        self.__end_time = time()\n",
    "\n",
    "    def get_elapsed_time(self):\n",
    "        return self.__end_time - self.__start_time\n",
    "\n",
    "    def get_start_time(self):\n",
    "        return self.__start_time\n",
    "\n",
    "    def get_end_time(self):\n",
    "        return self.__end_time\n",
    "\n",
    "if __name__ == '__main__':\n",
    "    timer = StopWatch()\n",
    "    timer.start()\n",
    "    s = 0\n",
    "    for i in range(1, 1000000):\n",
    "        s += i\n",
    "    timer.stop()\n",
    "    print('Elapsed Time : {:.2f}ms'.format(timer.get_elapsed_time()))\n",
    "\n"
   ]
  }
 ],
 "metadata": {
  "kernelspec": {
   "display_name": "Python 3",
   "language": "python",
   "name": "python3"
  },
  "language_info": {
   "codemirror_mode": {
    "name": "ipython",
    "version": 3
   },
   "file_extension": ".py",
   "mimetype": "text/x-python",
   "name": "python",
   "nbconvert_exporter": "python",
   "pygments_lexer": "ipython3",
   "version": "3.7.1"
  }
 },
 "nbformat": 4,
 "nbformat_minor": 1
}
