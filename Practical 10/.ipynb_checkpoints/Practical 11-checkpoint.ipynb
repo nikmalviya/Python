{
 "cells": [
  {
   "cell_type": "markdown",
   "metadata": {
    "collapsed": true
   },
   "source": [
    "$\\textbf{Q.1}$  (The Triangle class) Design a class named Triangle that extends the GeometricObject class. The Triangle class contains:\n",
    "* Three float data fields named side1, side2, and side3 to denote the three sides\n",
    "    of the triangle.\n",
    "* A constructor that creates a triangle with the specified side1, side2, and side3\n",
    "    with default values 1.0.\n",
    "* The accessor methods for all three data fields.\n",
    "* A method named getArea() that returns the area of this triangle.\n",
    "* A method named getPerimeter() that returns the perimeter of this triangle.\n",
    "* A method named __str__()that returns a string description for the triangle.\n",
    "* The __str__ ()method is implemented as follows: return \"Triangle: side1 = \" +\n",
    "    str(side1) + \" side2 = \" + str(side2) + \" side3 = \" + str(side3)"
   ]
  },
  {
   "cell_type": "code",
   "execution_count": 2,
   "metadata": {},
   "outputs": [
    {
     "name": "stdout",
     "output_type": "stream",
     "text": [
      "Enter Triangle Sides : 4 3 6\n",
      "Area of Triangle : 5.332682251925386\n",
      "Perimeter of Triangle : 13\n",
      "Triangle(side1=4, side2=3, side3=6)\n"
     ]
    }
   ],
   "source": [
    "class Geometry:\n",
    "    pass\n",
    "\n",
    "\n",
    "class Triangle(Geometry):\n",
    "    def __init__(self, side1=1, side2=1, side3=1):\n",
    "        self.side1 = side1\n",
    "        self.side2 = side2\n",
    "        self.side3 = side3\n",
    "\n",
    "    def get_side_1(self):\n",
    "        return self.side1\n",
    "\n",
    "    def get_side_2(self):\n",
    "        return self.side2\n",
    "\n",
    "    def get_side_3(self):\n",
    "        return self.side3\n",
    "\n",
    "    def get_area(self):\n",
    "        p = (self.side1 + self.side2 + self.side3)/2\n",
    "        from math import sqrt\n",
    "        return sqrt(p*(p-self.side1)*(p-self.side2)*(p-self.side3))\n",
    "\n",
    "    def get_perimeter(self):\n",
    "        return self.side1 + self.side2 + self.side3\n",
    "\n",
    "    def __str__(self):\n",
    "        return f'Triangle(side1={self.side1}, side2={self.side2}, side3={self.side3})'\n",
    "\n",
    "\n",
    "if __name__ == '__main__':\n",
    "    t = Triangle(*map(int, input('Enter Triangle Sides : ').split()))\n",
    "    print('Area of Triangle :', t.get_area())\n",
    "    print('Perimeter of Triangle :', t.get_perimeter())\n",
    "    print(t)"
   ]
  },
  {
   "cell_type": "markdown",
   "metadata": {},
   "source": [
    "$\\textbf{Q.2}$ User wants a bank account in the bank. (use object oriented fundamentals)\n",
    "* Provide all the details to create bank account like Name, Account Number,\n",
    "    Type of Account, Balance. (Class)\n",
    "* User have to use bank facility like withdraw, deposit. (Methods)\n",
    "* Check user withdraw amount or not if amount is less than 500. "
   ]
  },
  {
   "cell_type": "code",
   "execution_count": 4,
   "metadata": {},
   "outputs": [
    {
     "name": "stdout",
     "output_type": "stream",
     "text": [
      "Enter Name : Nikhil\n",
      "Enter Account Type : savings\n",
      "Enter Account Number :99098\n",
      "Enter Balance : 10000\n",
      "1 : Withdraw \n",
      "2 : Deposit \n",
      "3 : Quit \n",
      "Enter Your Choice :1\n",
      "Enter Amount : 1000\n",
      "New Balance :  9000.0\n",
      "1 : Withdraw \n",
      "2 : Deposit \n",
      "3 : Quit \n",
      "Enter Your Choice :2\n",
      "Enter Amount : 400\n",
      "New Balance :  9400.0\n",
      "1 : Withdraw \n",
      "2 : Deposit \n",
      "3 : Quit \n",
      "Enter Your Choice :3\n"
     ]
    }
   ],
   "source": [
    "class Account:\n",
    "    def __init__(self, name, acc_type,account_number, balance):\n",
    "        self.name = name\n",
    "        self.acc_type = acc_type\n",
    "        self.balance = balance\n",
    "        self.account_number = account_number\n",
    "\n",
    "    def withdraw(self, amount):\n",
    "        if self.balance < 500:\n",
    "            print('Minimum Balance Required Rs. 500')\n",
    "            return\n",
    "        if self.balance - amount > 0:\n",
    "            self.balance -= amount\n",
    "\n",
    "    def deposit(self, amount):\n",
    "        self.balance += amount\n",
    "\n",
    "    def set_balance(self, amount):\n",
    "        self.balance = amount\n",
    "\n",
    "    def get_balance(self):\n",
    "        return self.balance\n",
    "\n",
    "if __name__ == '__main__':\n",
    "    name = input('Enter Name : ')\n",
    "    acc_type = input('Enter Account Type : ')\n",
    "    account_number = input('Enter Account Number :')\n",
    "    balance = float(input('Enter Balance : '))\n",
    "    customer = Account(name, acc_type, account_number,  balance)\n",
    "    while True:\n",
    "        print('1 : Withdraw ')\n",
    "        print('2 : Deposit ')\n",
    "        print('3 : Quit ')\n",
    "        choice = input('Enter Your Choice :')\n",
    "        if choice == '1':\n",
    "            amount = float(input('Enter Amount : '))\n",
    "            customer.withdraw(amount)\n",
    "            print('New Balance : ', customer.get_balance())\n",
    "        elif choice == '2':\n",
    "            amount = float(input('Enter Amount : '))\n",
    "            customer.deposit(amount)\n",
    "            print('New Balance : ', customer.get_balance())\n",
    "        elif choice == '3':\n",
    "            break\n",
    "        else:\n",
    "            print('Invalid Choice')\n"
   ]
  },
  {
   "cell_type": "markdown",
   "metadata": {},
   "source": [
    "$\\textbf{Q.3}$ Implement the stack class along with its operations using OOP concept ."
   ]
  },
  {
   "cell_type": "code",
   "execution_count": 5,
   "metadata": {},
   "outputs": [
    {
     "name": "stdout",
     "output_type": "stream",
     "text": [
      "Stack([5, 6, 18])\n",
      "Stack([5, 6, 18, 15, 19])\n",
      "Stack([5, 6, 18, 15])\n",
      "Stack([5, 6, 18])\n"
     ]
    }
   ],
   "source": [
    "class Stack:\n",
    "    __stack = []\n",
    "\n",
    "    def __init__(self, size=10):\n",
    "        self.__size = size\n",
    "\n",
    "    def get_size(self):\n",
    "        return self.__size\n",
    "\n",
    "    def push(self, value):\n",
    "        if len(self.__stack) is 10:\n",
    "            print('Stack OverFlow..')\n",
    "            return False\n",
    "        else:\n",
    "            self.__stack.append(value)\n",
    "        return True\n",
    "\n",
    "    def peek(self):\n",
    "        if len(self.__stack) is 0:\n",
    "            print('Stack UnderFlow..')\n",
    "            return\n",
    "        return self.__stack[-1]\n",
    "\n",
    "    def pop(self):\n",
    "        if len(self.__stack) is 0:\n",
    "            print('Stack UnderFlow..')\n",
    "        else:\n",
    "            return self.__stack.pop()\n",
    "\n",
    "    def __str__(self):\n",
    "            return f'Stack({self.__stack})'\n",
    "\n",
    "if __name__ == '__main__':\n",
    "    stack = Stack()\n",
    "    stack.push(5)\n",
    "    stack.push(6)\n",
    "    stack.push(18)\n",
    "    print(stack)\n",
    "    stack.push(15)\n",
    "    stack.push(19)\n",
    "    print(stack)\n",
    "    stack.pop()\n",
    "    print(stack)\n",
    "    stack.pop()\n",
    "    print(stack)"
   ]
  }
 ],
 "metadata": {
  "kernelspec": {
   "display_name": "Python 3",
   "language": "python",
   "name": "python3"
  },
  "language_info": {
   "codemirror_mode": {
    "name": "ipython",
    "version": 3
   },
   "file_extension": ".py",
   "mimetype": "text/x-python",
   "name": "python",
   "nbconvert_exporter": "python",
   "pygments_lexer": "ipython3",
   "version": "3.7.1"
  }
 },
 "nbformat": 4,
 "nbformat_minor": 1
}
